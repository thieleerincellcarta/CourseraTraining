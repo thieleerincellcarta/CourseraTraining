{
 "cells": [
  {
   "cell_type": "markdown",
   "id": "cf00d4cb",
   "metadata": {},
   "source": [
    "# Data Science Tools and Ecosystem"
   ]
  },
  {
   "cell_type": "markdown",
   "id": "83a4a1b1",
   "metadata": {},
   "source": [
    "## Author\n",
    "Erin L. Thiele"
   ]
  },
  {
   "cell_type": "markdown",
   "id": "4b3a71a7",
   "metadata": {},
   "source": [
    "In this notebook, Data Science Tools and Ecosystem are summarized."
   ]
  },
  {
   "cell_type": "markdown",
   "id": "cd4558b8",
   "metadata": {},
   "source": [
    "**Objectives:**\n",
    "- List Data Science Tools\n",
    "- List popular languages for Data Science\n",
    "- List popular libraries for Data Science\n",
    "- Learn to use Jupyter Lab and Jupyter Notebooks\n",
    "- Learn about RStudio and GitHub"
   ]
  },
  {
   "cell_type": "markdown",
   "id": "b6316b63",
   "metadata": {},
   "source": [
    "### Some of the popular languages that Data Scientists use are:\n",
    "1. SQL \n",
    "2. Java\n",
    "3. Scala\n",
    "4. C++\n",
    "5. Java Script\n",
    "6. Julia"
   ]
  },
  {
   "cell_type": "markdown",
   "id": "d16c3a97",
   "metadata": {},
   "source": [
    "### Some of the popular libraries that Data Scientists use are:¶\n",
    "1. Pandas\n",
    "2. NumPy\n",
    "3. Matplotlib\n",
    "4. Seaborn\n",
    "5. Sci-kit Learn Library\n",
    "6. TensorFlow\n",
    "7. Pytorch\n",
    "8. Apache Spark\n",
    "9. Scala\n",
    "10. R"
   ]
  },
  {
   "cell_type": "markdown",
   "id": "66408686",
   "metadata": {},
   "source": [
    "|Data Science Tools|\n",
    "|------------------------|\n",
    "|Jupyter|\n",
    "|RStudio|\n",
    "|Apache Zeppelin|\n",
    "|Spyder|"
   ]
  },
  {
   "cell_type": "markdown",
   "id": "31194c4b",
   "metadata": {},
   "source": [
    "### Below are a few examples of evaluating arithmetic expressions in Python"
   ]
  },
  {
   "cell_type": "code",
   "execution_count": 7,
   "id": "3bd86eb0",
   "metadata": {},
   "outputs": [
    {
     "data": {
      "text/plain": [
       "17"
      ]
     },
     "execution_count": 7,
     "metadata": {},
     "output_type": "execute_result"
    }
   ],
   "source": [
    "#This is a simple arthimetic expression to multiply then add integers\n",
    "(3*4)+5"
   ]
  },
  {
   "cell_type": "code",
   "execution_count": 8,
   "id": "ae75bc56",
   "metadata": {},
   "outputs": [
    {
     "data": {
      "text/plain": [
       "3.3333333333333335"
      ]
     },
     "execution_count": 8,
     "metadata": {},
     "output_type": "execute_result"
    }
   ],
   "source": [
    "# This will convert 200 mintues to hours by dividing by 60\n",
    "200/60"
   ]
  }
 ],
 "metadata": {
  "kernelspec": {
   "display_name": "Python 3 (ipykernel)",
   "language": "python",
   "name": "python3"
  },
  "language_info": {
   "codemirror_mode": {
    "name": "ipython",
    "version": 3
   },
   "file_extension": ".py",
   "mimetype": "text/x-python",
   "name": "python",
   "nbconvert_exporter": "python",
   "pygments_lexer": "ipython3",
   "version": "3.10.9"
  }
 },
 "nbformat": 4,
 "nbformat_minor": 5
}
